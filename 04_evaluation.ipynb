{
 "cells": [
  {
   "cell_type": "code",
   "execution_count": 2,
   "metadata": {
    "scrolled": true
   },
   "outputs": [
    {
     "name": "stderr",
     "output_type": "stream",
     "text": [
      "Using TensorFlow backend.\n"
     ]
    }
   ],
   "source": [
    "import pandas as pd\n",
    "import numpy as np\n",
    "from numpy.random import seed\n",
    "seed(1)\n",
    "import matplotlib.pyplot as plt\n",
    "import seaborn as sns\n",
    "from t2e_utils import *\n",
    "from sklearn.preprocessing import StandardScaler, MinMaxScaler\n",
    "palette=sns.color_palette(\"RdBu_r\", 50)\n",
    "import pickle\n",
    "import random\n",
    "import warnings\n",
    "warnings.filterwarnings(\"ignore\")\n",
    "import tensorflow as tf\n",
    "import wtte.wtte as wtte\n",
    "from keras.models import Sequential, load_model,Model\n",
    "from keras.initializers import glorot_normal\n",
    "from keras.layers import Dense,LSTM,GRU,Activation,Masking,BatchNormalization,Lambda,Input\n",
    "from keras import backend as K\n",
    "from keras import callbacks\n",
    "from keras.optimizers import RMSprop,adam,Nadam\n",
    "from keras.callbacks import History, EarlyStopping, ModelCheckpoint, CSVLogger, ReduceLROnPlateau\n",
    "import os\n",
    "plt.style.use('seaborn-muted')\n",
    "\n",
    "%matplotlib inline\n",
    "%load_ext autoreload\n",
    "%autoreload 2\n",
    "import h5py\n",
    "\n",
    "path = '../Tax_paper/data/'\n",
    "b = os.path.join(path,'bpi_12_w.csv')\n",
    "b = pd.read_csv(b)\n",
    "\n",
    "df_dict = {\n",
    "    'a': None,\n",
    "    'b': b,\n",
    "    'c': None,\n",
    "    'd':None\n",
    "}\n",
    "range_dict = {\n",
    "    'a': range(2,8,1),\n",
    "    'b': range(2,22,2),\n",
    "    'c': range(2,12,2),\n",
    "    'd': range(2,22,2)\n",
    "}"
   ]
  },
  {
   "cell_type": "code",
   "execution_count": 1,
   "metadata": {},
   "outputs": [],
   "source": [
    "# dataset_preprocessed_cen = preprocess(b, censored = True,  min_length = 0, cen_prc = 0.4)\n",
    "# unique_cases = dataset_preprocessed_cen.loc[dataset_preprocessed_cen[\"U\"] == 1, \"CaseID\"].unique()\n",
    "# b_censored = b.loc[b[\"CaseID\"].isin(unique_cases)]\n",
    "# b_censored.to_csv(\"C:/Users/ebasfad/Dropbox/Data Science/01 - Masters/10 - Thesis/Tax_paper/data/bpi_12_w_censored.csv\", index=False)"
   ]
  },
  {
   "cell_type": "code",
   "execution_count": 18,
   "metadata": {},
   "outputs": [],
   "source": [
    "path = '../Tax_paper/code/output_files/results/'\n",
    "# a = os.path.join(path,'suffix_and_remaining_time_helpdesk.csv')\n",
    "# b = os.path.join(path,'suffix_and_remaining_time_bpi_12_w.csv')\n",
    "# c = os.path.join(path,'suffix_and_remaining_time_bpi_12_w_no_repeat.csv')\n",
    "# d = os.path.join(path,'suffix_and_remaining_time_env_permit.csv')\n",
    "\n",
    "b_observed    = os.path.join(path,'suffix_and_remaining_time_bpi_12_w_observed.csv')\n",
    "b_censored_40 = os.path.join(path,'suffix_and_remaining_time_bpi_12_w_censored.csv')\n",
    "\n",
    "\n",
    "# a = pd.read_csv(a)\n",
    "# b = pd.read_csv(b)\n",
    "# c = pd.read_csv(c)\n",
    "# d = pd.read_csv(d)\n",
    "\n",
    "b_observed    = pd.read_csv(b_observed)\n",
    "b_censored_40 = pd.read_csv(b_censored_40)\n",
    "\n",
    "\n",
    "df_dict = {\n",
    "#     'a': a,\n",
    "#     'b': b,\n",
    "#     'c': c,\n",
    "#     'd': d,\n",
    "    'b_observed': b_observed,\n",
    "    'b_censored_40': b_censored_40\n",
    "}\n",
    "\n",
    "for dataset in ['b_observed','b_censored_40']:\n",
    "    tmp = df_dict[dataset].groupby([\"Prefix length\"]).apply(lambda x:mean_absolute_error(x['Ground truth times'], x['Predicted times'])/86400).to_dict()\n",
    "    tmp = {k:v for k,v in tmp.items() if k in list(range_dict['b'])}\n",
    "    pickle.dump(list(tmp.values()), open('output_files/maes/'+ dataset +'.pkl', \"wb\"))"
   ]
  },
  {
   "cell_type": "code",
   "execution_count": 16,
   "metadata": {},
   "outputs": [
    {
     "data": {
      "image/png": "[encoded data removed]",
      "text/plain": [
       "<Figure size 864x360 with 1 Axes>"
      ]
     },
     "metadata": {
      "needs_background": "light"
     },
     "output_type": "display_data"
    }
   ],
   "source": [
    "maes_path = \"output_files/maes/\"\n",
    "cases = [\"baseline_claim\", \"observed_None_s\", \"censored_40_s\"]\n",
    "\n",
    "fig, ax = plt.subplots(1, 1, figsize=(12,5))\n",
    "\n",
    "for i,dataset in enumerate(['b']):\n",
    "\n",
    "    X = np.array(range_dict[dataset])\n",
    "    steps = [ -0.2,0, 0.2]\n",
    "    for j,case in enumerate(cases):\n",
    "        data = pickle.load(open(maes_path + case + \".pkl\",\"rb\"));\n",
    "        plt.bar(X+steps[j], data, width = 0.2, label=case);\n",
    "    \n",
    "    plt.xticks(range_dict[dataset])\n",
    "    plt.legend();\n",
    "    plt.xlabel(\"suffix used\")\n",
    "    plt.ylabel(\"MSE (days)\")\n",
    "    plt.title(dataset)\n",
    "plt.tight_layout()\n",
    "plt.show()"
   ]
  },
  {
   "cell_type": "code",
   "execution_count": 23,
   "metadata": {},
   "outputs": [
    {
     "data": {
      "image/png": "[encoded data removed]",
      "text/plain": [
       "<Figure size 864x360 with 1 Axes>"
      ]
     },
     "metadata": {
      "needs_background": "light"
     },
     "output_type": "display_data"
    }
   ],
   "source": [
    "maes_path = \"output_files/maes/\"\n",
    "cases = [\"b_observed\", \"b_censored_40\"]\n",
    "\n",
    "fig, ax = plt.subplots(1, 1, figsize=(12,5))\n",
    "\n",
    "for i,dataset in enumerate(['b']):\n",
    "\n",
    "    X = np.array(range_dict[dataset])\n",
    "    steps = [-0.2, 0, 0.2]\n",
    "    for j,case in enumerate(cases):\n",
    "        data = pickle.load(open(maes_path + case + \".pkl\",\"rb\"));\n",
    "        plt.bar(X+steps[j], data, width = 0.2, label=case);\n",
    "    \n",
    "    plt.xticks(range_dict[dataset])\n",
    "    plt.legend();\n",
    "    plt.xlabel(\"suffix used\")\n",
    "    plt.ylabel(\"MSE (days)\")\n",
    "    plt.title(dataset)\n",
    "plt.tight_layout()\n",
    "plt.show()"
   ]
  },
  {
   "cell_type": "code",
   "execution_count": null,
   "metadata": {},
   "outputs": [],
   "source": [
    "dataset = \"b\"\n",
    "\n",
    "for i, suffix in enumerate(range_dict[dataset]):\n",
    "\n",
    "    print(\"suffix = \", suffix)\n",
    "    print(test_result_df[\"predicted_mode\"].value_counts())\n",
    "    history = pd.read_csv(path +'training_'+str(suffix)+'.log', sep=',', engine='python')\n",
    "    test_result_df = pickle.load(open(path+\"test_res_censored_50_s.pkl\", \"rb\"))[i]\n",
    "    plt.figure(figsize = (12,5));\n",
    "    plt.plot(history['loss'], label='training');\n",
    "    plt.plot(history['val_loss'],label='validation');\n",
    "    plt.title('loss');\n",
    "    plt.legend();\n",
    "    plt.show();\n",
    "    print(\"============================================================================\")"
   ]
  }
 ],
 "metadata": {
  "kernelspec": {
   "display_name": "t2e",
   "language": "python",
   "name": "t2e"
  },
  "language_info": {
   "codemirror_mode": {
    "name": "ipython",
    "version": 3
   },
   "file_extension": ".py",
   "mimetype": "text/x-python",
   "name": "python",
   "nbconvert_exporter": "python",
   "pygments_lexer": "ipython3",
   "version": "3.6.10"
  }
 },
 "nbformat": 4,
 "nbformat_minor": 2
}
