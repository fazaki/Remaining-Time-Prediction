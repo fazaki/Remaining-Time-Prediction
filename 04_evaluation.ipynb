{
 "cells": [
  {
   "cell_type": "code",
   "execution_count": 1,
   "metadata": {
    "scrolled": true
   },
   "outputs": [
    {
     "name": "stderr",
     "output_type": "stream",
     "text": [
      "Using TensorFlow backend.\n"
     ]
    }
   ],
   "source": [
    "import pandas as pd\n",
    "import numpy as np\n",
    "from numpy.random import seed\n",
    "seed(1)\n",
    "import matplotlib.pyplot as plt\n",
    "import seaborn as sns\n",
    "from t2e_utils import *\n",
    "from sklearn.preprocessing import StandardScaler, MinMaxScaler\n",
    "palette=sns.color_palette(\"RdBu_r\", 50)\n",
    "import pickle\n",
    "import random\n",
    "import warnings\n",
    "warnings.filterwarnings(\"ignore\")\n",
    "\n",
    "import os\n",
    "plt.style.use('seaborn-muted')\n",
    "\n",
    "%matplotlib inline\n",
    "%load_ext autoreload\n",
    "%autoreload 2\n",
    "import h5py\n",
    "\n",
    "\n",
    "range_dict = {\n",
    "    'a_complete': range(2,8,1),\n",
    "    'b_complete': range(2,22,2),\n",
    "    'c_complete': range(2,12,2),\n",
    "    'd_complete': range(2,22,2),\n",
    "    'b_reduced': range(2,22,2),\n",
    "    'c_reduced': range(2,12,2)\n",
    "}\n",
    "\n",
    "maes_path = \"output_files/maes/baseline/\""
   ]
  },
  {
   "cell_type": "code",
   "execution_count": 2,
   "metadata": {},
   "outputs": [],
   "source": [
    "## Evaluate baseline results and save to pickle file\n",
    "\n",
    "path = '../Tax_paper/code/output_files/results/'\n",
    "# a = os.path.join(path,'suffix_and_remaining_time_helpdesk.csv')\n",
    "# b = os.path.join(path,'suffix_and_remaining_time_bpi_12_w.csv')\n",
    "# c = os.path.join(path,'suffix_and_remaining_time_bpi_12_w_no_repeat.csv')\n",
    "# d = os.path.join(path,'suffix_and_remaining_time_env_permit.csv')\n",
    "\n",
    "b_complete = os.path.join(path,'suffix_and_remaining_time_bpi_12_w.csv')\n",
    "c_complete = os.path.join(path,'suffix_and_remaining_time_bpi_12_w_no_repeat.csv')\n",
    "b_reduced = os.path.join(path,'suffix_and_remaining_time_bpi_12_w_reduced.csv')\n",
    "c_reduced = os.path.join(path,'suffix_and_remaining_time_bpi_12_w_no_repeat_reduced.csv')\n",
    "\n",
    "b_complete = pd.read_csv(b_complete)\n",
    "c_complete = pd.read_csv(c_complete)\n",
    "b_reduced = pd.read_csv(b_reduced)\n",
    "c_reduced = pd.read_csv(c_reduced)\n",
    "\n",
    "df_dict = {\n",
    "    'b_complete': b_complete,\n",
    "    'c_complete': c_complete,\n",
    "    'b_reduced': b_reduced,\n",
    "    'c_reduced': c_reduced\n",
    "}\n",
    "\n",
    "for dataset in df_dict.keys():\n",
    "    tmp = df_dict[dataset].groupby([\"Prefix length\"]).apply(lambda x:mean_absolute_error(x['Ground truth times'], x['Predicted times'])/86400).to_dict()\n",
    "    tmp = {k:v for k,v in tmp.items() if k in list(range_dict[dataset])}\n",
    "    pickle.dump(list(tmp.values()), open(maes_path + dataset +'.pkl', \"wb\"))"
   ]
  },
  {
   "cell_type": "code",
   "execution_count": 3,
   "metadata": {},
   "outputs": [],
   "source": [
    "## Load baseline results\n",
    "path = 'output_files/maes/baseline/'\n",
    "baseline_b_reduced  = pickle.load(open(path + 'b_reduced.pkl', 'rb'))\n",
    "baseline_b_complete = pickle.load(open(path + 'b_complete.pkl', 'rb'))\n",
    "\n",
    "## Load grid search results single layer\n",
    "path = 'output_files/maes/single_layer/'\n",
    "grid_results_b_cen_sl = list(np.squeeze(pickle.load(open(path + 'grid_results_b_censored.pkl', 'rb')).groupby([\"suffix\"]).agg({\"MAE\":\"min\"}).values))\n",
    "grid_results_b_obs_sl = list(np.squeeze(pickle.load(open(path + 'grid_results_b_observed.pkl', 'rb')).groupby([\"suffix\"]).agg({\"MAE\":\"min\"}).values))\n",
    "\n",
    "path = 'output_files/maes/double_layer/'\n",
    "grid_results_b_cen_dl = list(np.squeeze(pickle.load(open(path + 'grid_results_b_censored.pkl', 'rb')).groupby([\"suffix\"]).agg({\"MAE\":\"min\"}).values))\n",
    "grid_results_b_obs_dl = list(np.squeeze(pickle.load(open(path + 'grid_results_b_observed.pkl', 'rb')).groupby([\"suffix\"]).agg({\"MAE\":\"min\"}).values))\n",
    "\n",
    "cases_b = [\n",
    "    baseline_b_complete,\n",
    "    baseline_b_reduced,\n",
    "    grid_results_b_cen_sl,\n",
    "    grid_results_b_obs_sl,\n",
    "    grid_results_b_cen_dl,\n",
    "    grid_results_b_obs_dl]"
   ]
  },
  {
   "cell_type": "code",
   "execution_count": 4,
   "metadata": {},
   "outputs": [],
   "source": [
    "## Load baseline results\n",
    "path = 'output_files/maes/baseline/'\n",
    "baseline_c_reduced  = pickle.load(open(path + 'c_reduced.pkl', 'rb'))\n",
    "baseline_c_complete = pickle.load(open(path + 'c_complete.pkl', 'rb'))\n",
    "\n",
    "## Load grid search results double layer\n",
    "\n",
    "path = 'output_files/maes/single_layer/'\n",
    "grid_results_c_cen_sl = list(np.squeeze(pickle.load(open(path + 'grid_results_c_censored.pkl', 'rb')).groupby([\"suffix\"]).agg({\"MAE\":\"min\"}).values))\n",
    "grid_results_c_obs_sl = list(np.squeeze(pickle.load(open(path + 'grid_results_c_observed.pkl', 'rb')).groupby([\"suffix\"]).agg({\"MAE\":\"min\"}).values))\n",
    "\n",
    "path = 'output_files/maes/double_layer/'\n",
    "grid_results_c_cen_dl = list(np.squeeze(pickle.load(open(path + 'grid_results_c_censored.pkl', 'rb')).groupby([\"suffix\"]).agg({\"MAE\":\"min\"}).values))\n",
    "grid_results_c_obs_dl = list(np.squeeze(pickle.load(open(path + 'grid_results_c_observed.pkl', 'rb')).groupby([\"suffix\"]).agg({\"MAE\":\"min\"}).values))\n",
    "\n",
    "cases_c = [\n",
    "    baseline_c_complete,\n",
    "    baseline_c_reduced,\n",
    "    grid_results_c_cen_sl,\n",
    "    grid_results_c_obs_sl,\n",
    "    grid_results_c_cen_dl,\n",
    "    grid_results_c_obs_dl]"
   ]
  },
  {
   "cell_type": "code",
   "execution_count": 5,
   "metadata": {},
   "outputs": [
    {
     "data": {
      "image/png": "[encoded data removed]",
      "text/plain": [
       "<Figure size 864x360 with 1 Axes>"
      ]
     },
     "metadata": {
      "needs_background": "light"
     },
     "output_type": "display_data"
    }
   ],
   "source": [
    "cases = cases_b\n",
    "labels= [\"baseline_complete\", \"baseline_reduced\",\"Censored_SL\", \"Observed_SL\", \"Censored_DL\",\"Observed_DL\"]\n",
    "steps = [-0.6, -0.4,-0.2, 0, 0.2,0.4]\n",
    "\n",
    "\n",
    "fig, ax = plt.subplots(1, 1, figsize=(12,5))\n",
    "\n",
    "for i,dataset in enumerate(['b_complete']):\n",
    "\n",
    "    X = np.array(range_dict[dataset])\n",
    "    \n",
    "    for j,case in enumerate(cases):\n",
    "        plt.bar(x      = X + steps[j], \n",
    "                height = case,\n",
    "                width  = 0.2,\n",
    "                label = labels[j]);\n",
    "    \n",
    "    plt.xticks(range_dict[dataset])\n",
    "    plt.legend();\n",
    "    plt.xlabel(\"suffix used\")\n",
    "    plt.ylabel(\"MSE (days)\")\n",
    "    plt.title(dataset)\n",
    "plt.tight_layout()\n",
    "plt.show()"
   ]
  },
  {
   "cell_type": "code",
   "execution_count": 6,
   "metadata": {},
   "outputs": [
    {
     "data": {
      "image/png": "[encoded data removed]",
      "text/plain": [
       "<Figure size 864x360 with 1 Axes>"
      ]
     },
     "metadata": {
      "needs_background": "light"
     },
     "output_type": "display_data"
    }
   ],
   "source": [
    "cases = cases_c\n",
    "labels= [\"baseline_complete\", \"baseline_reduced\",\"Censored_SL\", \"Observed_SL\", \"Censored_DL\",\"Observed_DL\"]\n",
    "\n",
    "steps = [0.6,-0.4,-0.2, 0, 0.2,0.4]\n",
    "\n",
    "fig, ax = plt.subplots(1, 1, figsize=(12,5))\n",
    "\n",
    "for i,dataset in enumerate(['c_complete']):\n",
    "\n",
    "    X = np.array(range_dict[dataset])\n",
    "    \n",
    "    for j,case in enumerate(cases):\n",
    "        plt.bar(x      = X + steps[j], \n",
    "                height = case,\n",
    "                width  = 0.2,\n",
    "                label = labels[j]);\n",
    "    \n",
    "    plt.xticks(range_dict[dataset])\n",
    "    plt.legend();\n",
    "    plt.xlabel(\"suffix used\")\n",
    "    plt.ylabel(\"MSE (days)\")\n",
    "    plt.title(dataset)\n",
    "plt.tight_layout()\n",
    "plt.show()"
   ]
  },
  {
   "cell_type": "code",
   "execution_count": null,
   "metadata": {},
   "outputs": [],
   "source": []
  }
 ],
 "metadata": {
  "kernelspec": {
   "display_name": "t2e",
   "language": "python",
   "name": "t2e"
  },
  "language_info": {
   "codemirror_mode": {
    "name": "ipython",
    "version": 3
   },
   "file_extension": ".py",
   "mimetype": "text/x-python",
   "name": "python",
   "nbconvert_exporter": "python",
   "pygments_lexer": "ipython3",
   "version": "3.6.10"
  }
 },
 "nbformat": 4,
 "nbformat_minor": 2
}
