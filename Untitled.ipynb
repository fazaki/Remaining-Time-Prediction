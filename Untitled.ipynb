{
 "cells": [
  {
   "cell_type": "code",
   "execution_count": 1,
   "metadata": {},
   "outputs": [
    {
     "name": "stderr",
     "output_type": "stream",
     "text": [
      "Using TensorFlow backend.\n"
     ]
    }
   ],
   "source": [
    "import pandas as pd\n",
    "import numpy as np\n",
    "np.random.seed(0)\n",
    "import matplotlib.pyplot as plt\n",
    "import seaborn as sns\n",
    "from t2e_utils import *\n",
    "from sklearn.preprocessing import StandardScaler, MinMaxScaler\n",
    "palette=sns.color_palette(\"RdBu_r\", 50)\n",
    "import pickle\n",
    "import random\n",
    "import warnings\n",
    "warnings.filterwarnings(\"ignore\")\n",
    "import tensorflow as tf\n",
    "tf.random.set_seed(0)\n",
    "from tensorflow.keras.models import load_model,Model\n",
    "from tensorflow.keras.layers import Dense,LSTM,GRU,Activation,Masking,BatchNormalization,Lambda,Input\n",
    "from tensorflow.keras import backend as K\n",
    "from tensorflow.keras import callbacks\n",
    "from tensorflow.keras.initializers import glorot_uniform\n",
    "from tensorflow.keras.optimizers import RMSprop,Adam,Nadam\n",
    "from tensorflow.keras.callbacks import History, EarlyStopping, ModelCheckpoint, CSVLogger, ReduceLROnPlateau\n",
    "import wtte.wtte as wtte\n",
    "import os\n",
    "plt.style.use('seaborn-muted')\n",
    "# # pd.set_option(\"display.max_rows\",1000)\n",
    "%matplotlib inline\n",
    "%load_ext autoreload\n",
    "%autoreload 2\n",
    "import h5py"
   ]
  },
  {
   "cell_type": "code",
   "execution_count": 4,
   "metadata": {},
   "outputs": [
    {
     "name": "stdout",
     "output_type": "stream",
     "text": [
      "WARNING:tensorflow:`epsilon` argument is deprecated and will be removed, use `min_delta` instead.\n"
     ]
    }
   ],
   "source": [
    "test_out_path = \"testing_output/\"\n",
    "\n",
    "def model_initialization():\n",
    "    np.random.seed(0)\n",
    "    tf.random.set_seed(0)\n",
    "    my_init = glorot_uniform()\n",
    "    tte_mean_train = 10\n",
    "    mean_u = 10\n",
    "    init_alpha = 10\n",
    "    history = History()\n",
    "    cri = 'val_loss'\n",
    "    csv_logger = CSVLogger(test_out_path + 'training.log', separator=',', append=False)\n",
    "    es = EarlyStopping(monitor=cri, mode='min', verbose=True, patience=100, restore_best_weights=True)\n",
    "    mc = ModelCheckpoint(test_out_path + 'best_model.h5', monitor=cri, mode='min', verbose=True, save_best_only=True, save_weights_only=True)\n",
    "    lr_reducer = ReduceLROnPlateau(monitor=cri, factor=0.5, patience=10, verbose=0, mode='auto', epsilon=0.0001, cooldown=0, min_lr=0)\n",
    "    n_features = 11\n",
    "    main_input = Input(shape=(None, n_features), name='main_input')\n",
    "#     mask_input = Masking(mask_value=0, name='mask_input')(main_input)\n",
    "    l1 = GRU(64, activation='tanh', recurrent_dropout=0.2,return_sequences=True, kernel_initializer=my_init)(main_input)\n",
    "    b0 = BatchNormalization()(l1)\n",
    "    l11= GRU(16, activation='tanh',recurrent_dropout=0.2,return_sequences=False, kernel_initializer=my_init)(b0)\n",
    "    b1 = BatchNormalization()(l11)\n",
    "    l2 = Dense(2, name='Dense', kernel_initializer=my_init)(b1)\n",
    "    b2 = BatchNormalization()(l2)\n",
    "    output = Lambda(wtte.output_lambda, arguments={\"init_alpha\":init_alpha,\"max_beta_value\":100, \"scalefactor\":0.5})(l2)\n",
    "    loss = wtte.loss(kind='continuous',reduce_loss=False).loss_function\n",
    "    model = Model(inputs=[main_input], outputs=[output])\n",
    "    model.compile(loss=loss, optimizer=Nadam(lr=0.002, beta_1=0.9, beta_2=0.999, epsilon=1e-08, schedule_decay=0.004, clipvalue=3))\n",
    "    return model\n",
    "\n",
    "model = model_initialization()\n",
    "w = model.get_weights()"
   ]
  },
  {
   "cell_type": "code",
   "execution_count": 3,
   "metadata": {},
   "outputs": [
    {
     "name": "stdout",
     "output_type": "stream",
     "text": [
      "-0.071527466\n",
      "0.0736959\n",
      "0.0\n",
      "1.0\n",
      "0.0\n",
      "0.0\n",
      "1.0\n",
      "-0.1410886\n",
      "0.20898485\n",
      "0.0\n",
      "1.0\n",
      "0.0\n",
      "0.0\n",
      "1.0\n",
      "-0.561723\n",
      "0.0\n"
     ]
    }
   ],
   "source": [
    "for i in range(len(w)):\n",
    "    try:\n",
    "        print(w[i][0][0])\n",
    "    except:\n",
    "        print(w[i][0])"
   ]
  },
  {
   "cell_type": "code",
   "execution_count": 5,
   "metadata": {},
   "outputs": [
    {
     "name": "stdout",
     "output_type": "stream",
     "text": [
      "-0.071527466\n",
      "0.0736959\n",
      "0.0\n",
      "1.0\n",
      "0.0\n",
      "0.0\n",
      "1.0\n",
      "-0.1410886\n",
      "0.20898485\n",
      "0.0\n",
      "1.0\n",
      "0.0\n",
      "0.0\n",
      "1.0\n",
      "-0.561723\n",
      "0.0\n"
     ]
    }
   ],
   "source": [
    "for i in range(len(w)):\n",
    "    try:\n",
    "        print(w[i][0][0])\n",
    "    except:\n",
    "        print(w[i][0])"
   ]
  },
  {
   "cell_type": "code",
   "execution_count": null,
   "metadata": {},
   "outputs": [],
   "source": []
  }
 ],
 "metadata": {
  "kernelspec": {
   "display_name": "t2e",
   "language": "python",
   "name": "t2e"
  },
  "language_info": {
   "codemirror_mode": {
    "name": "ipython",
    "version": 3
   },
   "file_extension": ".py",
   "mimetype": "text/x-python",
   "name": "python",
   "nbconvert_exporter": "python",
   "pygments_lexer": "ipython3",
   "version": "3.6.10"
  }
 },
 "nbformat": 4,
 "nbformat_minor": 2
}
