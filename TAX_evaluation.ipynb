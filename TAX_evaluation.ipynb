{
 "cells": [
  {
   "cell_type": "code",
   "execution_count": 7,
   "metadata": {},
   "outputs": [],
   "source": [
    "import pandas as pd\n",
    "import numpy as np\n",
    "import os\n",
    "from sklearn.metrics import mean_absolute_error"
   ]
  },
  {
   "cell_type": "code",
   "execution_count": 4,
   "metadata": {},
   "outputs": [
    {
     "data": {
      "text/plain": [
       "<module 'ntpath' from 'C:\\\\Users\\\\ebasfad\\\\AppData\\\\Local\\\\Continuum\\\\anaconda3\\\\envs\\\\t2e\\\\lib\\\\ntpath.py'>"
      ]
     },
     "execution_count": 4,
     "metadata": {},
     "output_type": "execute_result"
    }
   ],
   "source": [
    "os.path"
   ]
  },
  {
   "cell_type": "code",
   "execution_count": 50,
   "metadata": {},
   "outputs": [],
   "source": [
    "path = '../Tax_paper/code/output_files/results/'\n",
    "a = os.path.join(path,'suffix_and_remaining_time_helpdesk.csv')\n",
    "b = os.path.join(path,'suffix_and_remaining_time_bpi_12_w.csv')\n",
    "c = os.path.join(path,'suffix_and_remaining_time_bpi_12_w_no_repeat.csv')\n",
    "d = os.path.join(path,'suffix_and_remaining_time_env_permit.csv')"
   ]
  },
  {
   "cell_type": "code",
   "execution_count": 51,
   "metadata": {},
   "outputs": [],
   "source": [
    "a = pd.read_csv(a)\n",
    "b = pd.read_csv(b)\n",
    "c = pd.read_csv(c)\n",
    "d = pd.read_csv(d)\n",
    "\n",
    "df_dict = {\n",
    "    'a': a,\n",
    "    'b': b,\n",
    "    'c': c,\n",
    "    'd': d\n",
    "}"
   ]
  },
  {
   "cell_type": "code",
   "execution_count": 52,
   "metadata": {},
   "outputs": [],
   "source": [
    "range_dict = {\n",
    "    'a': range(2,8,1),\n",
    "    'b': range(2,22,2),\n",
    "    'c': range(2,12,2),\n",
    "    'd': range(2,22,2)\n",
    "}"
   ]
  },
  {
   "cell_type": "code",
   "execution_count": 53,
   "metadata": {},
   "outputs": [],
   "source": [
    "baseline = {}\n",
    "for dataset in ['a','b','c','d']:\n",
    "    tmp = df_dict[dataset].groupby([\"Prefix length\"]).apply(lambda x:mean_absolute_error(x['Ground truth times'], x['Predicted times'])/86400).to_dict()\n",
    "    tmp = {k:v for k,v in tmp.items() if k in list(range_dict[dataset])}\n",
    "    baseline[dataset] = list(tmp.values())"
   ]
  },
  {
   "cell_type": "code",
   "execution_count": null,
   "metadata": {},
   "outputs": [],
   "source": []
  }
 ],
 "metadata": {
  "kernelspec": {
   "display_name": "t2e",
   "language": "python",
   "name": "t2e"
  },
  "language_info": {
   "codemirror_mode": {
    "name": "ipython",
    "version": 3
   },
   "file_extension": ".py",
   "mimetype": "text/x-python",
   "name": "python",
   "nbconvert_exporter": "python",
   "pygments_lexer": "ipython3",
   "version": "3.6.10"
  }
 },
 "nbformat": 4,
 "nbformat_minor": 2
}
