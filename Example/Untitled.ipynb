{
 "cells": [
  {
   "cell_type": "code",
   "execution_count": 1,
   "id": "08d32649-a284-4321-b18a-881b7e05274b",
   "metadata": {},
   "outputs": [
    {
     "name": "stderr",
     "output_type": "stream",
     "text": [
      "Using TensorFlow backend.\n",
      "DEBUG 2021-06-11 17:06:12 - Loaded backend module://ipykernel.pylab.backend_inline version unknown.\n"
     ]
    }
   ],
   "source": [
    "import sys\n",
    "sys.path.insert(0, '../')\n",
    "import os\n",
    "from cycle_prediction.t2e import t2e\n",
    "from cycle_prediction.weibull_utils import check_dir\n",
    "import pandas as pd\n",
    "import numpy as np\n",
    "import pickle\n",
    "import warnings\n",
    "warnings.filterwarnings(\"ignore\")"
   ]
  },
  {
   "cell_type": "code",
   "execution_count": 15,
   "id": "1379c3c3-b72b-4639-b2f3-e163f2c880d7",
   "metadata": {},
   "outputs": [],
   "source": [
    "path = '../data/'\n",
    "check_dir(path)\n",
    "\n",
    "a = os.path.join(path, 'helpdesk.csv')\n",
    "b = os.path.join(path, 'bpi_12_w.csv')\n",
    "c = os.path.join(path, 'bpi_12_w_no_repeat.csv')\n",
    "d = os.path.join(path, 'env_permit.csv')\n",
    "e = os.path.join(path, 'bpic13_all.csv')\n",
    "f = os.path.join(path, 'Sepsis_Cases_processed.csv')\n",
    "g = os.path.join(path, 'road_traffic.csv')\n",
    "h = os.path.join(path, 'bpic15_2.csv')\n",
    "\n",
    "a = pd.read_csv(a)\n",
    "b = pd.read_csv(b)\n",
    "c = pd.read_csv(c)\n",
    "d = pd.read_csv(d)\n",
    "e = pd.read_csv(e)\n",
    "f = pd.read_csv(f)\n",
    "g = pd.read_csv(g)\n",
    "h = pd.read_csv(h)\n",
    "\n",
    "df_name = {\n",
    "    'a': 'helpdesk',\n",
    "    'b': 'bpi12',\n",
    "    'c': 'bpi12_norep',\n",
    "    'd': 'env',\n",
    "    'e': 'bpic13_all',\n",
    "    'f': 'Sepsis',\n",
    "    'g': 'Road_traffic',\n",
    "    'h': 'bpic15'\n",
    "}\n",
    "\n",
    "df_dict = {\n",
    "    'a': a,\n",
    "    'b': b,\n",
    "    'c': c,\n",
    "    'd': d,\n",
    "    'e': e,\n",
    "    'f': f,\n",
    "    'g': g,\n",
    "    'h': h,\n",
    "}\n",
    "\n",
    "range_dict = {\n",
    "    'a': range(2, 8, 1),\n",
    "    'b': range(2, 22, 2),\n",
    "    'c': range(2, 12, 2),\n",
    "    'd': range(2, 22, 2),\n",
    "    'e': range(2, 22, 2),\n",
    "    'f': range(3, 11, 1),\n",
    "    'g': range(1, 6, 1),\n",
    "    'h': range(5, 30, 5)\n",
    "}\n",
    "\n",
    "end_event_dict = {\n",
    "    'a': [1,2,3,4,5,6],\n",
    "    'b': [1,2,3,4,5,6],\n",
    "    'c': [1,2,3,4,5,6],\n",
    "    'd': [6],\n",
    "    'e': ['Completed+Closed', 'Completed+In Call', 'Completed-Closed',\n",
    "          'Completed+Resolved', 'Completed+Cancelled', 'Completed-Cancelled'],\n",
    "    'f': ['Release A', 'Release B', 'Release C', 'Release D', 'Release E',\n",
    "          'Return ER'],\n",
    "    'g': ['Payment', 'Send for Credit Collection'],\n",
    "    'h': ['01_HOOFD', '01_BB', '08_AWB45', '05_EIND', '13_CRD', '14_VRIJ',\n",
    "          '10_UOV', '99_NOCODE', '04_BPT', '06_VD', '12_AP', '01_OLO',\n",
    "          '02_DRZ', '16_LGSD', '09_AH', '16_LGSV', '03_VD', '03_GBH',\n",
    "          '07_OPS', '10_OLO', '11_AH']\n",
    "}\n",
    "\n",
    "cols = [\"prefix\", \"Layer_Size\", \"MAE\", \"unique_pred\", \"train_size\",\n",
    "        \"val_size\", \"test_size\", \"Censored %\", \"fit_time\"]\n",
    "\n",
    "exp_dict = {\n",
    "    1: {\n",
    "      'mae_path': '../output/maes/prc/',\n",
    "      'dynamic_features': ['ActivityID'],\n",
    "      'static_features': [],\n",
    "      'transform': 'log'\n",
    "    },\n",
    "}"
   ]
  },
  {
   "cell_type": "code",
   "execution_count": 38,
   "id": "1eaf592d-d41d-4773-ad6a-b25e1aea2ea7",
   "metadata": {},
   "outputs": [
    {
     "name": "stderr",
     "output_type": "stream",
     "text": [
      "INFO 2021-06-11 20:47:18 - ========================================================\n",
      "INFO 2021-06-11 20:47:18 - Prefix = 2\n",
      "INFO 2021-06-11 20:47:18 - Total cases: 937\n",
      "INFO 2021-06-11 20:47:18 - Prefix cases: 935\n",
      "INFO 2021-06-11 20:47:18 - ========================\n",
      "INFO 2021-06-11 20:47:18 - Extra censored percentage 1\n",
      "INFO 2021-06-11 20:47:18 - len(df) 360\n",
      "INFO 2021-06-11 20:47:18 - Extra censored examples 360\n",
      "INFO 2021-06-11 20:47:19 - TRAINING SET\n",
      "INFO 2021-06-11 20:47:19 - Censored cases: 359\n",
      "INFO 2021-06-11 20:47:19 - Observed cases: 1\n",
      "INFO 2021-06-11 20:47:20 - Y_label has been transformed to logarithmic scale\n",
      "INFO 2021-06-11 20:47:20 - ========================\n",
      "INFO 2021-06-11 20:47:21 - VALIDATION SET\n",
      "INFO 2021-06-11 20:47:21 - Observed cases: 294\n",
      "INFO 2021-06-11 20:47:22 - Y_label has been transformed to logarithmic scale\n",
      "INFO 2021-06-11 20:47:22 - ========================\n",
      "INFO 2021-06-11 20:47:22 - TEST SET\n",
      "INFO 2021-06-11 20:47:22 - Observed cases: 281\n",
      "INFO 2021-06-11 20:47:23 - Y_label has been transformed to logarithmic scale\n",
      "INFO 2021-06-11 20:47:23 - ========================\n",
      "INFO 2021-06-11 20:47:23 - Dynamic Features Idx: [3, 4, 5, 7, 8, 9, 10, 11, 12, 13, 14, 15, 16, 17, 18, 19, 20, 21, 22, 23, 24, 25, 26, 27, 28, 29, 30, 31, 32, 33, 34, 35, 36, 37, 38, 39, 40, 41, 42, 43, 44, 45, 46, 47, 48, 49, 50, 51, 52, 53, 54, 55, 56, 57, 58, 59, 60, 61, 62, 63, 64, 65, 66, 67, 68, 69, 70, 71, 72, 73, 74, 75, 76, 77, 78, 79, 80, 81, 82, 83, 84, 85, 86, 87, 88, 89, 90, 91, 92, 93, 94, 95, 96, 97, 98, 99, 100, 101, 102, 103, 104, 105, 106, 107, 108, 109, 110, 111, 112, 113, 114, 115, 116, 117, 118, 119, 120, 121, 122, 123, 124, 125, 126, 127, 128, 129, 130, 131, 132, 133, 134, 135, 136, 137, 138, 139, 140, 141, 142, 143, 144, 145, 146, 147, 148, 149, 150, 151, 152, 153]\n",
      "INFO 2021-06-11 20:47:23 - Static  Features Idx: []\n"
     ]
    }
   ],
   "source": [
    "dataset = 'd'\n",
    "res = 'd'\n",
    "fit_type = 't2e'\n",
    "censored = True\n",
    "size_dyn = 4\n",
    "extra_censored = 1\n",
    "prefix = 2\n",
    "\n",
    "for exp, v in exp_dict.items():\n",
    "    mae_path = v['mae_path']\n",
    "    check_dir(mae_path + dataset + '/')\n",
    "    \n",
    "    grid_results = pd.DataFrame(columns=cols)\n",
    "    t2e_obj = t2e(\n",
    "        dataset=df_dict[dataset],\n",
    "        prefix=prefix,\n",
    "        resolution=res,\n",
    "        dynamic_features=exp_dict[exp]['dynamic_features'],\n",
    "        static_features=exp_dict[exp]['static_features'],\n",
    "        fit_type='t2e',\n",
    "        transform=exp_dict[exp]['transform'],\n",
    "        end_event_list=df_dict[dataset].drop_duplicates(subset=['CaseID','ActivityID'], keep='last')['ActivityID'].unique().tolist(),\n",
    "        censored=censored\n",
    "    )\n",
    "    t2e_obj.train_val_test_split()\n",
    "    t2e_obj.preprocess(extra_censored=extra_censored)\n",
    "    X_train, X_val, X_test, y_train, y_val, y_test = t2e_obj.xy_split()"
   ]
  },
  {
   "cell_type": "code",
   "execution_count": null,
   "id": "e38d3073-479b-44cb-ade1-f35c3722dbdb",
   "metadata": {},
   "outputs": [],
   "source": []
  },
  {
   "cell_type": "code",
   "execution_count": 39,
   "id": "64b62ff8-0f6d-431a-aa77-9396e093a717",
   "metadata": {},
   "outputs": [
    {
     "name": "stderr",
     "output_type": "stream",
     "text": [
      "INFO 2021-06-11 20:47:27 - Initializing time to event model ...\n"
     ]
    }
   ],
   "source": [
    "t2e_obj.build_model(X_train, y_train,\n",
    "                        size_dyn=8, size_sta=4)"
   ]
  },
  {
   "cell_type": "code",
   "execution_count": 40,
   "id": "eebac0bf-17f1-4141-acd8-226eeb229001",
   "metadata": {},
   "outputs": [
    {
     "name": "stderr",
     "output_type": "stream",
     "text": [
      "INFO 2021-06-11 20:47:29 - No Static features added\n",
      "INFO 2021-06-11 20:47:29 - Variable Input Shape: (360, 2, 150)\n",
      "INFO 2021-06-11 20:47:29 - Output   Input Shape: (360, 2)\n",
      "INFO 2021-06-11 20:47:29 - Fitting model ... Batch size: 128\n"
     ]
    }
   ],
   "source": [
    "t2e_obj.fit(X_train, y_train, X_val, y_val,\n",
    "                bs=128, exp_dir=dataset+'_'+str(exp)+'_'+str(prefix),\n",
    "                vb=False)"
   ]
  },
  {
   "cell_type": "code",
   "execution_count": null,
   "id": "61587645-4ba6-4b77-ac8a-ddc0a411e0d2",
   "metadata": {},
   "outputs": [],
   "source": []
  },
  {
   "cell_type": "code",
   "execution_count": null,
   "id": "27687ec8-cf71-4eca-9ab1-23ef8e5f6fe5",
   "metadata": {},
   "outputs": [],
   "source": []
  },
  {
   "cell_type": "code",
   "execution_count": null,
   "id": "581512f3-0d09-469b-9fd7-29d421f49998",
   "metadata": {},
   "outputs": [],
   "source": [
    "try:\n",
    "    t2e_obj.build_model(X_train, y_train,\n",
    "                        size_dyn=8, size_sta=4)\n",
    "    t2e_obj.fit(X_train, y_train, X_val, y_val,\n",
    "                bs=128, exp_dir=dataset+'_'+str(exp)+'_'+str(prefix),\n",
    "                vb=False)\n",
    "except Exception:\n",
    "    try:\n",
    "        t2e_obj.build_model(X_train, y_train,\n",
    "                            size_dyn=8, size_sta=4)\n",
    "        t2e_obj.fit(X_train, y_train, X_val, y_val,\n",
    "                    bs=64,\n",
    "                    exp_dir=dataset+'_'+str(exp)+'_'+str(prefix),\n",
    "                    vb=False)\n",
    "    except Exception:\n",
    "        t2e_obj.build_model(X_train, y_train,\n",
    "                            size_dyn=8, size_sta=4)\n",
    "        t2e_obj.fit(X_train, y_train, X_val, y_val,\n",
    "                    bs=32,\n",
    "                    exp_dir=dataset+'_'+str(exp)+'_'+str(prefix),\n",
    "                    vb=False)\n",
    "\n",
    "\n",
    "\n"
   ]
  },
  {
   "cell_type": "code",
   "execution_count": 41,
   "id": "7102f490-62c0-4fe9-85e6-77576b6924b2",
   "metadata": {},
   "outputs": [
    {
     "name": "stderr",
     "output_type": "stream",
     "text": [
      "INFO 2021-06-11 20:55:16 - Evaluating test set ...\n",
      "INFO 2021-06-11 20:55:16 - Y_label is restored\n"
     ]
    },
    {
     "ename": "ValueError",
     "evalue": "Input contains NaN, infinity or a value too large for dtype('float64').",
     "output_type": "error",
     "traceback": [
      "\u001b[0;31m---------------------------------------------------------------------------\u001b[0m",
      "\u001b[0;31mValueError\u001b[0m                                Traceback (most recent call last)",
      "\u001b[0;32m<ipython-input-41-f508ca54bfaf>\u001b[0m in \u001b[0;36m<module>\u001b[0;34m()\u001b[0m\n\u001b[0;32m----> 1\u001b[0;31m \u001b[0mtest_result_df\u001b[0m\u001b[0;34m,\u001b[0m \u001b[0mmae\u001b[0m \u001b[0;34m=\u001b[0m \u001b[0mt2e_obj\u001b[0m\u001b[0;34m.\u001b[0m\u001b[0mevaluate\u001b[0m\u001b[0;34m(\u001b[0m\u001b[0mX_test\u001b[0m\u001b[0;34m,\u001b[0m \u001b[0my_test\u001b[0m\u001b[0;34m)\u001b[0m\u001b[0;34m\u001b[0m\u001b[0;34m\u001b[0m\u001b[0m\n\u001b[0m\u001b[1;32m      2\u001b[0m \u001b[0mnunique\u001b[0m \u001b[0;34m=\u001b[0m \u001b[0mtest_result_df\u001b[0m\u001b[0;34m[\u001b[0m\u001b[0;34m\"T_pred\"\u001b[0m\u001b[0;34m]\u001b[0m\u001b[0;34m.\u001b[0m\u001b[0mnunique\u001b[0m\u001b[0;34m(\u001b[0m\u001b[0;34m)\u001b[0m\u001b[0;34m\u001b[0m\u001b[0;34m\u001b[0m\u001b[0m\n\u001b[1;32m      3\u001b[0m \u001b[0mcen_percentage\u001b[0m \u001b[0;34m=\u001b[0m \u001b[0mt2e_obj\u001b[0m\u001b[0;34m.\u001b[0m\u001b[0mget_cen_prc\u001b[0m\u001b[0;34m(\u001b[0m\u001b[0;34m)\u001b[0m\u001b[0;34m\u001b[0m\u001b[0;34m\u001b[0m\u001b[0m\n\u001b[1;32m      4\u001b[0m grid_results = grid_results.append(\n\u001b[1;32m      5\u001b[0m     pd.DataFrame([[prefix, size_dyn, mae, nunique, len(X_train[0]),\n",
      "\u001b[0;32m/Users/fadi.baskharon/github/personal/cycle_prediction/cycle_prediction/t2e.py\u001b[0m in \u001b[0;36mevaluate\u001b[0;34m(self, X, y)\u001b[0m\n\u001b[1;32m    736\u001b[0m                         test_results_df[\"error (days)\"])\n\u001b[1;32m    737\u001b[0m                     mae = mean_absolute_error(\n\u001b[0;32m--> 738\u001b[0;31m                         test_results_df['T'], test_results_df['T_pred'])\n\u001b[0m\u001b[1;32m    739\u001b[0m                 \u001b[0mtest_results_df\u001b[0m\u001b[0;34m[\u001b[0m\u001b[0;34m\"Accurate\"\u001b[0m\u001b[0;34m]\u001b[0m \u001b[0;34m=\u001b[0m\u001b[0;31m\\\u001b[0m\u001b[0;34m\u001b[0m\u001b[0;34m\u001b[0m\u001b[0m\n\u001b[1;32m    740\u001b[0m                     ((test_results_df[\"U\"] == 1) &\n",
      "\u001b[0;32m/Users/fadi.baskharon/opt/anaconda3/envs/t2e/lib/python3.6/site-packages/sklearn/utils/validation.py\u001b[0m in \u001b[0;36minner_f\u001b[0;34m(*args, **kwargs)\u001b[0m\n\u001b[1;32m     61\u001b[0m             \u001b[0mextra_args\u001b[0m \u001b[0;34m=\u001b[0m \u001b[0mlen\u001b[0m\u001b[0;34m(\u001b[0m\u001b[0margs\u001b[0m\u001b[0;34m)\u001b[0m \u001b[0;34m-\u001b[0m \u001b[0mlen\u001b[0m\u001b[0;34m(\u001b[0m\u001b[0mall_args\u001b[0m\u001b[0;34m)\u001b[0m\u001b[0;34m\u001b[0m\u001b[0;34m\u001b[0m\u001b[0m\n\u001b[1;32m     62\u001b[0m             \u001b[0;32mif\u001b[0m \u001b[0mextra_args\u001b[0m \u001b[0;34m<=\u001b[0m \u001b[0;36m0\u001b[0m\u001b[0;34m:\u001b[0m\u001b[0;34m\u001b[0m\u001b[0;34m\u001b[0m\u001b[0m\n\u001b[0;32m---> 63\u001b[0;31m                 \u001b[0;32mreturn\u001b[0m \u001b[0mf\u001b[0m\u001b[0;34m(\u001b[0m\u001b[0;34m*\u001b[0m\u001b[0margs\u001b[0m\u001b[0;34m,\u001b[0m \u001b[0;34m**\u001b[0m\u001b[0mkwargs\u001b[0m\u001b[0;34m)\u001b[0m\u001b[0;34m\u001b[0m\u001b[0;34m\u001b[0m\u001b[0m\n\u001b[0m\u001b[1;32m     64\u001b[0m \u001b[0;34m\u001b[0m\u001b[0m\n\u001b[1;32m     65\u001b[0m             \u001b[0;31m# extra_args > 0\u001b[0m\u001b[0;34m\u001b[0m\u001b[0;34m\u001b[0m\u001b[0;34m\u001b[0m\u001b[0m\n",
      "\u001b[0;32m/Users/fadi.baskharon/opt/anaconda3/envs/t2e/lib/python3.6/site-packages/sklearn/metrics/_regression.py\u001b[0m in \u001b[0;36mmean_absolute_error\u001b[0;34m(y_true, y_pred, sample_weight, multioutput)\u001b[0m\n\u001b[1;32m    181\u001b[0m     \"\"\"\n\u001b[1;32m    182\u001b[0m     y_type, y_true, y_pred, multioutput = _check_reg_targets(\n\u001b[0;32m--> 183\u001b[0;31m         y_true, y_pred, multioutput)\n\u001b[0m\u001b[1;32m    184\u001b[0m     \u001b[0mcheck_consistent_length\u001b[0m\u001b[0;34m(\u001b[0m\u001b[0my_true\u001b[0m\u001b[0;34m,\u001b[0m \u001b[0my_pred\u001b[0m\u001b[0;34m,\u001b[0m \u001b[0msample_weight\u001b[0m\u001b[0;34m)\u001b[0m\u001b[0;34m\u001b[0m\u001b[0;34m\u001b[0m\u001b[0m\n\u001b[1;32m    185\u001b[0m     output_errors = np.average(np.abs(y_pred - y_true),\n",
      "\u001b[0;32m/Users/fadi.baskharon/opt/anaconda3/envs/t2e/lib/python3.6/site-packages/sklearn/metrics/_regression.py\u001b[0m in \u001b[0;36m_check_reg_targets\u001b[0;34m(y_true, y_pred, multioutput, dtype)\u001b[0m\n\u001b[1;32m     88\u001b[0m     \u001b[0mcheck_consistent_length\u001b[0m\u001b[0;34m(\u001b[0m\u001b[0my_true\u001b[0m\u001b[0;34m,\u001b[0m \u001b[0my_pred\u001b[0m\u001b[0;34m)\u001b[0m\u001b[0;34m\u001b[0m\u001b[0;34m\u001b[0m\u001b[0m\n\u001b[1;32m     89\u001b[0m     \u001b[0my_true\u001b[0m \u001b[0;34m=\u001b[0m \u001b[0mcheck_array\u001b[0m\u001b[0;34m(\u001b[0m\u001b[0my_true\u001b[0m\u001b[0;34m,\u001b[0m \u001b[0mensure_2d\u001b[0m\u001b[0;34m=\u001b[0m\u001b[0;32mFalse\u001b[0m\u001b[0;34m,\u001b[0m \u001b[0mdtype\u001b[0m\u001b[0;34m=\u001b[0m\u001b[0mdtype\u001b[0m\u001b[0;34m)\u001b[0m\u001b[0;34m\u001b[0m\u001b[0;34m\u001b[0m\u001b[0m\n\u001b[0;32m---> 90\u001b[0;31m     \u001b[0my_pred\u001b[0m \u001b[0;34m=\u001b[0m \u001b[0mcheck_array\u001b[0m\u001b[0;34m(\u001b[0m\u001b[0my_pred\u001b[0m\u001b[0;34m,\u001b[0m \u001b[0mensure_2d\u001b[0m\u001b[0;34m=\u001b[0m\u001b[0;32mFalse\u001b[0m\u001b[0;34m,\u001b[0m \u001b[0mdtype\u001b[0m\u001b[0;34m=\u001b[0m\u001b[0mdtype\u001b[0m\u001b[0;34m)\u001b[0m\u001b[0;34m\u001b[0m\u001b[0;34m\u001b[0m\u001b[0m\n\u001b[0m\u001b[1;32m     91\u001b[0m \u001b[0;34m\u001b[0m\u001b[0m\n\u001b[1;32m     92\u001b[0m     \u001b[0;32mif\u001b[0m \u001b[0my_true\u001b[0m\u001b[0;34m.\u001b[0m\u001b[0mndim\u001b[0m \u001b[0;34m==\u001b[0m \u001b[0;36m1\u001b[0m\u001b[0;34m:\u001b[0m\u001b[0;34m\u001b[0m\u001b[0;34m\u001b[0m\u001b[0m\n",
      "\u001b[0;32m/Users/fadi.baskharon/opt/anaconda3/envs/t2e/lib/python3.6/site-packages/sklearn/utils/validation.py\u001b[0m in \u001b[0;36minner_f\u001b[0;34m(*args, **kwargs)\u001b[0m\n\u001b[1;32m     61\u001b[0m             \u001b[0mextra_args\u001b[0m \u001b[0;34m=\u001b[0m \u001b[0mlen\u001b[0m\u001b[0;34m(\u001b[0m\u001b[0margs\u001b[0m\u001b[0;34m)\u001b[0m \u001b[0;34m-\u001b[0m \u001b[0mlen\u001b[0m\u001b[0;34m(\u001b[0m\u001b[0mall_args\u001b[0m\u001b[0;34m)\u001b[0m\u001b[0;34m\u001b[0m\u001b[0;34m\u001b[0m\u001b[0m\n\u001b[1;32m     62\u001b[0m             \u001b[0;32mif\u001b[0m \u001b[0mextra_args\u001b[0m \u001b[0;34m<=\u001b[0m \u001b[0;36m0\u001b[0m\u001b[0;34m:\u001b[0m\u001b[0;34m\u001b[0m\u001b[0;34m\u001b[0m\u001b[0m\n\u001b[0;32m---> 63\u001b[0;31m                 \u001b[0;32mreturn\u001b[0m \u001b[0mf\u001b[0m\u001b[0;34m(\u001b[0m\u001b[0;34m*\u001b[0m\u001b[0margs\u001b[0m\u001b[0;34m,\u001b[0m \u001b[0;34m**\u001b[0m\u001b[0mkwargs\u001b[0m\u001b[0;34m)\u001b[0m\u001b[0;34m\u001b[0m\u001b[0;34m\u001b[0m\u001b[0m\n\u001b[0m\u001b[1;32m     64\u001b[0m \u001b[0;34m\u001b[0m\u001b[0m\n\u001b[1;32m     65\u001b[0m             \u001b[0;31m# extra_args > 0\u001b[0m\u001b[0;34m\u001b[0m\u001b[0;34m\u001b[0m\u001b[0;34m\u001b[0m\u001b[0m\n",
      "\u001b[0;32m/Users/fadi.baskharon/opt/anaconda3/envs/t2e/lib/python3.6/site-packages/sklearn/utils/validation.py\u001b[0m in \u001b[0;36mcheck_array\u001b[0;34m(array, accept_sparse, accept_large_sparse, dtype, order, copy, force_all_finite, ensure_2d, allow_nd, ensure_min_samples, ensure_min_features, estimator)\u001b[0m\n\u001b[1;32m    719\u001b[0m         \u001b[0;32mif\u001b[0m \u001b[0mforce_all_finite\u001b[0m\u001b[0;34m:\u001b[0m\u001b[0;34m\u001b[0m\u001b[0;34m\u001b[0m\u001b[0m\n\u001b[1;32m    720\u001b[0m             _assert_all_finite(array,\n\u001b[0;32m--> 721\u001b[0;31m                                allow_nan=force_all_finite == 'allow-nan')\n\u001b[0m\u001b[1;32m    722\u001b[0m \u001b[0;34m\u001b[0m\u001b[0m\n\u001b[1;32m    723\u001b[0m     \u001b[0;32mif\u001b[0m \u001b[0mensure_min_samples\u001b[0m \u001b[0;34m>\u001b[0m \u001b[0;36m0\u001b[0m\u001b[0;34m:\u001b[0m\u001b[0;34m\u001b[0m\u001b[0;34m\u001b[0m\u001b[0m\n",
      "\u001b[0;32m/Users/fadi.baskharon/opt/anaconda3/envs/t2e/lib/python3.6/site-packages/sklearn/utils/validation.py\u001b[0m in \u001b[0;36m_assert_all_finite\u001b[0;34m(X, allow_nan, msg_dtype)\u001b[0m\n\u001b[1;32m    104\u001b[0m                     \u001b[0mmsg_err\u001b[0m\u001b[0;34m.\u001b[0m\u001b[0mformat\u001b[0m\u001b[0;34m\u001b[0m\u001b[0;34m\u001b[0m\u001b[0m\n\u001b[1;32m    105\u001b[0m                     (type_err,\n\u001b[0;32m--> 106\u001b[0;31m                      msg_dtype if msg_dtype is not None else X.dtype)\n\u001b[0m\u001b[1;32m    107\u001b[0m             )\n\u001b[1;32m    108\u001b[0m     \u001b[0;31m# for object dtype data, we only check for NaNs (GH-13254)\u001b[0m\u001b[0;34m\u001b[0m\u001b[0;34m\u001b[0m\u001b[0;34m\u001b[0m\u001b[0m\n",
      "\u001b[0;31mValueError\u001b[0m: Input contains NaN, infinity or a value too large for dtype('float64')."
     ]
    }
   ],
   "source": [
    "test_result_df, mae = t2e_obj.evaluate(X_test, y_test)\n",
    "nunique = test_result_df[\"T_pred\"].nunique()\n",
    "cen_percentage = t2e_obj.get_cen_prc()\n",
    "grid_results = grid_results.append(\n",
    "    pd.DataFrame([[prefix, size_dyn, mae, nunique, len(X_train[0]),\n",
    "                   len(X_val[0]), len(X_test[0]), cen_percentage,\n",
    "                   t2e_obj.fit_time]], columns=cols),\n",
    "    ignore_index=True)\n",
    "    \n",
    "\n",
    "grid_results\n",
    "\n"
   ]
  },
  {
   "cell_type": "code",
   "execution_count": null,
   "id": "3e7bb287-4466-4d8c-97ac-ec7bae6c0548",
   "metadata": {},
   "outputs": [],
   "source": [
    "pickle.dump(grid_results, open(mae_path + \n",
    "                dataset + '/' + str(extra_censored)+\n",
    "                '_GRU.pkl', 'wb'))"
   ]
  }
 ],
 "metadata": {
  "kernelspec": {
   "display_name": "t2e",
   "language": "python",
   "name": "t2e"
  },
  "language_info": {
   "codemirror_mode": {
    "name": "ipython",
    "version": 3
   },
   "file_extension": ".py",
   "mimetype": "text/x-python",
   "name": "python",
   "nbconvert_exporter": "python",
   "pygments_lexer": "ipython3",
   "version": "3.6.13"
  }
 },
 "nbformat": 4,
 "nbformat_minor": 5
}
