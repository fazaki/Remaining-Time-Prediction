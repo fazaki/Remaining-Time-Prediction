{
 "cells": [
  {
   "cell_type": "code",
   "execution_count": null,
   "metadata": {},
   "outputs": [],
   "source": [
    "import pandas as pd\n",
    "import numpy as np\n",
    "from numpy.random import seed\n",
    "seed(1)\n",
    "import matplotlib.pyplot as plt\n",
    "import seaborn as sns\n",
    "from cycle_prediction.t2e import t2e\n",
    "import pandas as pd\n",
    "from matplotlib import gridspec\n",
    "import seaborn as sns\n",
    "import pickle\n",
    "import pickle\n",
    "import warnings\n",
    "warnings.filterwarnings(\"ignore\")\n",
    "import os\n",
    "%load_ext autoreload\n",
    "%autoreload 2"
   ]
  },
  {
   "cell_type": "code",
   "execution_count": null,
   "metadata": {},
   "outputs": [],
   "source": [
    "path = '../data/'\n",
    "\n",
    "a = os.path.join(path,'helpdesk.csv')\n",
    "a = pd.read_csv(a)\n",
    "b = os.path.join(path,'bpi_12_w.csv')\n",
    "b = pd.read_csv(b)\n",
    "c = os.path.join(path,'bpi_12_w_no_repeat.csv')\n",
    "c = pd.read_csv(c)\n",
    "d = os.path.join(path,'env_permit.csv')\n",
    "d = pd.read_csv(d)\n",
    "\n",
    "df_name = {\n",
    "    'a':'helpdesk',\n",
    "    'b':'bpi_12_w',\n",
    "    'c':'bpi_12_w_no_repeat',\n",
    "    'd':'env_permit'\n",
    "}\n",
    "\n",
    "df_dict = {\n",
    "    'a': a,\n",
    "    'b': b,\n",
    "    'c': c,\n",
    "    'd': d\n",
    "}\n",
    "range_dict = {\n",
    "    'a': range(2,8,1),\n",
    "    'b': range(2,22,2),\n",
    "    'c': range(2,12,2),\n",
    "    'd': range(2,22,2)\n",
    "}"
   ]
  },
  {
   "cell_type": "code",
   "execution_count": null,
   "metadata": {},
   "outputs": [],
   "source": [
    "fig = plt.figure(figsize=(15, 6)) \n",
    "gs = gridspec.GridSpec(2, 2, width_ratios=[1,3])\n",
    "\n",
    "i = 0\n",
    "for key, dataset in df_dict.items():\n",
    "\n",
    "    ax = plt.subplot(gs[i])\n",
    "    sns.countplot(dataset.groupby([\"CaseID\"]).agg({\"ActivityID\":'count'})[\"ActivityID\"], color='gray', ax = ax)\n",
    "    plt.xlabel(\"Number of events per trace\", fontsize=14)\n",
    "    plt.ylabel(\"Count\",fontsize=14)\n",
    "    plt.title(\"Dataset \" + key,fontsize=18)\n",
    "    i+=1\n",
    "plt.tight_layout()\n",
    "plt.plot()"
   ]
  },
  {
   "cell_type": "code",
   "execution_count": null,
   "metadata": {},
   "outputs": [],
   "source": [
    "from matplotlib import gridspec\n",
    "fig = plt.figure(figsize=(15, 6)) \n",
    "gs = gridspec.GridSpec(2, 3, width_ratios=[1,1,1])\n",
    "\n",
    "i = 0\n",
    "for key, dataset in df_dict.items():\n",
    "\n",
    "    ax = plt.subplot(gs[i])\n",
    "    if i == 3:\n",
    "        ax = plt.subplot(gs[i:])\n",
    "    sns.countplot(dataset.groupby([\"CaseID\"]).agg({\"ActivityID\":'nunique'})[\"ActivityID\"], color='gray', ax = ax)\n",
    "    plt.xlabel(\"number of unique activities per trace\", fontsize=14)\n",
    "    plt.ylabel(\"Count\",fontsize=14)\n",
    "    plt.title(\"Dataset \" + key,fontsize=18)\n",
    "    i+=1\n",
    "plt.tight_layout()\n",
    "plt.plot()"
   ]
  },
  {
   "cell_type": "code",
   "execution_count": null,
   "metadata": {
    "scrolled": true
   },
   "outputs": [],
   "source": [
    "dataset='a'\n",
    "res='s'\n",
    "censored=False\n",
    "cen_per=0\n",
    "fit_type:'t2e'\n",
    "df_results = dict()\n",
    "prefix = 6\n",
    "transform = True\n",
    "##########################################################\n",
    "\n",
    "print(\"\\ndataset:\", dataset, \"\\tprefix:\", prefix)\n",
    "\n",
    "t2e_obj = t2e(df_dict[dataset], \n",
    "              prefix = prefix, \n",
    "              resolution = res, \n",
    "              censored = censored , \n",
    "              cen_prc = cen_per,\n",
    "              transform = transform\n",
    "             )\n",
    "t2e_obj.preprocess()\n",
    "X_train, X_test, X_val, y_train, y_test, y_val, len_train, len_val, len_test = t2e_obj.smart_split(train_prc = 0.7,\n",
    "                                                                                                     val_prc = 0.45,\n",
    "                                                                                                      scaling=True)"
   ]
  },
  {
   "cell_type": "code",
   "execution_count": null,
   "metadata": {},
   "outputs": [],
   "source": [
    "X_train.shape, X_test.shape, X_val.shape, y_train.shape, y_test.shape, y_val.shape"
   ]
  },
  {
   "cell_type": "code",
   "execution_count": null,
   "metadata": {},
   "outputs": [],
   "source": [
    "if res == 'd':\n",
    "    bins = np.arange(0,y_train.max()+1, 1)\n",
    "elif res == 'h':\n",
    "    bins = np.arange(0,y_train.max()+24, 24)\n",
    "elif res == 's':\n",
    "    bins = np.arange(0,y_train.max()+86400, 86400)\n",
    "    \n",
    "plt.figure(figsize=(6,4))\n",
    "plt.hist(y_train[:,0], bins = bins,label=\"Train\");\n",
    "# plt.hist(y_val[:,0], bins = bins,label=\"Val\");\n",
    "plt.hist(y_test[:,0], bins = bins, label=\"Test\", color='lightgreen');\n",
    "plt.xlabel('Remaining time (T) in seconds')\n",
    "plt.ylabel('Occurences')\n",
    "plt.title('Train/Test label distribution')\n",
    "plt.legend()\n",
    "plt.show()"
   ]
  },
  {
   "cell_type": "code",
   "execution_count": null,
   "metadata": {},
   "outputs": [],
   "source": [
    "root = 3\n",
    "root = 1/root\n",
    "power = 1/root\n",
    "print(root, power)\n",
    "\n",
    "plt.figure(figsize=(6,4))\n",
    "y_conv = (y_train[:,0]**root)\n",
    "\n",
    "plt.hist(y_conv, bins = 120,label=\"Train\", alpha =1);\n",
    "\n",
    "y_conv = (y_test[:,0]**root)\n",
    "# y_conv = (np.log(y_test[:,0]))\n",
    "plt.hist(y_conv, bins = 120,label=\"Test\", alpha=1, color='lightgreen');\n",
    "\n",
    "plt.xlabel('Remaining time (T) in seconds')\n",
    "plt.ylabel('Occurences')\n",
    "plt.title('Train/Test label distribution')\n",
    "plt.legend()\n",
    "plt.show()"
   ]
  },
  {
   "cell_type": "code",
   "execution_count": null,
   "metadata": {
    "scrolled": true
   },
   "outputs": [],
   "source": [
    "print(\"Layer size:\",4, end = \" ..... \")\n",
    "t2e_obj.fit(X_train, y_train, X_val, y_val,size=8, vb = True)\n",
    "print(\"Done\")\n",
    "print(\"Training accomplished in\", t2e_obj.fit_time, \"seconds\")\n",
    "try:\n",
    "    test_result_df, mae, accuracy = t2e_obj.evaluate(X_test,y_test)\n",
    "    print('power:', t2e_obj.power)\n",
    "    print(len(test_result_df['T_pred'].unique()), 'unique predictions')\n",
    "    print(np.round(mae,3), 'mae')\n",
    "except:\n",
    "    print('evaluation failed')\n"
   ]
  },
  {
   "cell_type": "code",
   "execution_count": null,
   "metadata": {},
   "outputs": [],
   "source": [
    "y_pred = t2e_obj.predict(X_test)"
   ]
  },
  {
   "cell_type": "code",
   "execution_count": null,
   "metadata": {},
   "outputs": [],
   "source": [
    "test_results_df, mae = t2e_obj.evaluate(X_test,y_test)"
   ]
  },
  {
   "cell_type": "code",
   "execution_count": null,
   "metadata": {},
   "outputs": [],
   "source": [
    "mae"
   ]
  },
  {
   "cell_type": "code",
   "execution_count": null,
   "metadata": {},
   "outputs": [],
   "source": [
    "test_results_df"
   ]
  }
 ],
 "metadata": {
  "kernelspec": {
   "display_name": "T2E",
   "language": "python",
   "name": "t2e"
  },
  "language_info": {
   "codemirror_mode": {
    "name": "ipython",
    "version": 3
   },
   "file_extension": ".py",
   "mimetype": "text/x-python",
   "name": "python",
   "nbconvert_exporter": "python",
   "pygments_lexer": "ipython3",
   "version": "3.7.3"
  }
 },
 "nbformat": 4,
 "nbformat_minor": 2
}
